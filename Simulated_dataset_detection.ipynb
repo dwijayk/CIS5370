{
 "cells": [
  {
   "cell_type": "code",
   "execution_count": 114,
   "metadata": {},
   "outputs": [],
   "source": [
    "from joblib import load\n",
    "from joblib import dump\n",
    "import pandas as pd\n",
    "import numpy as np\n",
    "from sklearn.preprocessing import MinMaxScaler\n",
    "from sklearn import svm\n",
    "from sklearn.linear_model import LogisticRegression\n",
    "from sklearn.metrics import accuracy_score\n",
    "from sklearn.metrics import confusion_matrix\n",
    "\n",
    "\n",
    "# Assuming file paths for your two CSV files\n",
    "file_path1 = 'DataSets/benign1.csv'\n",
    "file_path2 = 'DataSets/DDOS1.csv'\n",
    "file_path3 = 'DataSets/benign2.csv'\n",
    "file_path4 = 'DataSets/DDOS2.csv'\n",
    "\n",
    "# Read CSV files into DataFrames\n",
    "df1 = pd.read_csv(file_path1)\n",
    "df2 = pd.read_csv(file_path2)\n",
    "df3 = pd.read_csv(file_path3)\n",
    "df4 = pd.read_csv(file_path4)\n",
    "\n",
    "\n"
   ]
  },
  {
   "cell_type": "code",
   "execution_count": 115,
   "metadata": {},
   "outputs": [
    {
     "name": "stdout",
     "output_type": "stream",
     "text": [
      "Index(['Flow ID', 'Src IP', 'Src Port', 'Dst IP', 'Dst Port', 'Protocol',\n",
      "       'Timestamp', 'Flow Duration', 'Tot Fwd Pkts', 'Tot Bwd Pkts',\n",
      "       'TotLen Fwd Pkts', 'TotLen Bwd Pkts', 'Fwd Pkt Len Max',\n",
      "       'Fwd Pkt Len Min', 'Fwd Pkt Len Mean', 'Fwd Pkt Len Std',\n",
      "       'Bwd Pkt Len Max', 'Bwd Pkt Len Min', 'Bwd Pkt Len Mean',\n",
      "       'Bwd Pkt Len Std', 'Flow Byts/s', 'Flow Pkts/s', 'Flow IAT Mean',\n",
      "       'Flow IAT Std', 'Flow IAT Max', 'Flow IAT Min', 'Fwd IAT Tot',\n",
      "       'Fwd IAT Mean', 'Fwd IAT Std', 'Fwd IAT Max', 'Fwd IAT Min',\n",
      "       'Bwd IAT Tot', 'Bwd IAT Mean', 'Bwd IAT Std', 'Bwd IAT Max',\n",
      "       'Bwd IAT Min', 'Fwd PSH Flags', 'Bwd PSH Flags', 'Fwd URG Flags',\n",
      "       'Bwd URG Flags', 'Fwd Header Len', 'Bwd Header Len', 'Fwd Pkts/s',\n",
      "       'Bwd Pkts/s', 'Pkt Len Min', 'Pkt Len Max', 'Pkt Len Mean',\n",
      "       'Pkt Len Std', 'Pkt Len Var', 'FIN Flag Cnt', 'SYN Flag Cnt',\n",
      "       'RST Flag Cnt', 'PSH Flag Cnt', 'ACK Flag Cnt', 'URG Flag Cnt',\n",
      "       'CWE Flag Count', 'ECE Flag Cnt', 'Down/Up Ratio', 'Pkt Size Avg',\n",
      "       'Fwd Seg Size Avg', 'Bwd Seg Size Avg', 'Fwd Byts/b Avg',\n",
      "       'Fwd Pkts/b Avg', 'Fwd Blk Rate Avg', 'Bwd Byts/b Avg',\n",
      "       'Bwd Pkts/b Avg', 'Bwd Blk Rate Avg', 'Subflow Fwd Pkts',\n",
      "       'Subflow Fwd Byts', 'Subflow Bwd Pkts', 'Subflow Bwd Byts',\n",
      "       'Init Fwd Win Byts', 'Init Bwd Win Byts', 'Fwd Act Data Pkts',\n",
      "       'Fwd Seg Size Min', 'Active Mean', 'Active Std', 'Active Max',\n",
      "       'Active Min', 'Idle Mean', 'Idle Std', 'Idle Max', 'Idle Min', 'Label'],\n",
      "      dtype='object')\n"
     ]
    }
   ],
   "source": [
    "print(df1.columns)\n"
   ]
  },
  {
   "cell_type": "code",
   "execution_count": 116,
   "metadata": {},
   "outputs": [],
   "source": [
    "\n",
    "\n",
    "df_test = pd.concat([df1, df2], ignore_index=True, sort=False)\n",
    "df_train = pd.concat([df3, df4], ignore_index=True, sort=False)\n",
    "#df.replace([np.inf, -np.inf], np.nan, inplace=True)\n",
    "\n",
    "# Now, you can drop rows containing NaN values\n",
    "#df.dropna(inplace=True)\n"
   ]
  },
  {
   "cell_type": "code",
   "execution_count": 117,
   "metadata": {},
   "outputs": [
    {
     "data": {
      "text/plain": [
       "RangeIndex(start=0, stop=20695, step=1)"
      ]
     },
     "execution_count": 117,
     "metadata": {},
     "output_type": "execute_result"
    }
   ],
   "source": [
    "df_train.index"
   ]
  },
  {
   "cell_type": "code",
   "execution_count": 118,
   "metadata": {},
   "outputs": [],
   "source": [
    "# specify the class for Train data\n",
    "df_train.loc[df_train.index < len(df3), 'Class'] = 1\n",
    "df_train.loc[df_train.index >= len(df3), 'Class'] = 0\n",
    "# put the actual class for testing the result\n",
    "df_test.loc[df_test.index < len(df1), 'Class'] = 1\n",
    "df_test.loc[df_test.index >= len(df1), 'Class'] = 0"
   ]
  },
  {
   "cell_type": "code",
   "execution_count": 119,
   "metadata": {},
   "outputs": [],
   "source": [
    "# we used the top 15 important features in CICDDOS2019 dataset\n",
    "selected_features = ['ACK Flag Count', 'Fwd Packet Length Min', 'Flow Duration',\n",
    "       'Fwd Packet Length Max', 'URG Flag Count', 'Down/Up Ratio',\n",
    "       'Bwd Packet Length Min', 'Init Fwd Win Bytes', 'Bwd Packet Length Max',\n",
    "       'CWE Flag Count', 'Init Bwd Win Bytes', 'Fwd Packet Length Std',\n",
    "       'Flow IAT Mean', 'Fwd Packets Length Total']\n",
    "#selected_features = ['Protocol', 'ACK Flag Count', 'Fwd Packet Length Min', 'Flow Duration']"
   ]
  },
  {
   "cell_type": "code",
   "execution_count": 120,
   "metadata": {},
   "outputs": [
    {
     "name": "stdout",
     "output_type": "stream",
     "text": [
      "Mapped Features:\n",
      "['ACK Flag Cnt', 'Fwd Pkt Len Min', 'Flow Duration', 'Fwd Pkt Len Max', 'URG Flag Cnt', 'Down/Up Ratio', 'Bwd Pkt Len Min', 'Init Fwd Win Byts', 'Bwd Pkt Len Max', 'CWE Flag Count', 'Init Bwd Win Byts', 'Fwd Pkt Len Std', 'Flow IAT Mean', 'TotLen Fwd Pkts']\n"
     ]
    }
   ],
   "source": [
    "feature_mapping = {\n",
    "    'Protocol': 'Protocol',\n",
    "    'Flow Duration': 'Flow Duration',\n",
    "    'Total Fwd Packets': 'Tot Fwd Pkts',\n",
    "    'Total Backward Packets': 'Tot Bwd Pkts',\n",
    "    'Fwd Packets Length Total': 'TotLen Fwd Pkts',\n",
    "    'Bwd Packets Length Total': 'TotLen Bwd Pkts',\n",
    "    'Fwd Packet Length Max': 'Fwd Pkt Len Max',\n",
    "    'Fwd Packet Length Min': 'Fwd Pkt Len Min',\n",
    "    'Fwd Packet Length Mean': 'Fwd Pkt Len Mean',\n",
    "    'Fwd Packet Length Std': 'Fwd Pkt Len Std',\n",
    "    'Bwd Packet Length Max': 'Bwd Pkt Len Max',\n",
    "    'Bwd Packet Length Min': 'Bwd Pkt Len Min',\n",
    "    'Bwd Packet Length Mean': 'Bwd Pkt Len Mean',\n",
    "    'Bwd Packet Length Std': 'Bwd Pkt Len Std',\n",
    "    'Flow Bytes/s': 'Flow Byts/s',\n",
    "    'Flow Packets/s': 'Flow Pkts/s',\n",
    "    'Flow IAT Mean': 'Flow IAT Mean',\n",
    "    'Flow IAT Std': 'Flow IAT Std',\n",
    "    'Flow IAT Max': 'Flow IAT Max',\n",
    "    'Flow IAT Min': 'Flow IAT Min',\n",
    "    'Fwd IAT Total': 'Fwd IAT Tot',\n",
    "    'Fwd IAT Mean': 'Fwd IAT Mean',\n",
    "    'Fwd IAT Std': 'Fwd IAT Std',\n",
    "    'Fwd IAT Max': 'Fwd IAT Max',\n",
    "    'Fwd IAT Min': 'Fwd IAT Min',\n",
    "    'Bwd IAT Total': 'Bwd IAT Tot',\n",
    "    'Bwd IAT Mean': 'Bwd IAT Mean',\n",
    "    'Bwd IAT Std': 'Bwd IAT Std',\n",
    "    'Bwd IAT Max': 'Bwd IAT Max',\n",
    "    'Bwd IAT Min': 'Bwd IAT Min',\n",
    "    'Fwd PSH Flags': 'Fwd PSH Flags',\n",
    "    'Bwd PSH Flags': 'Bwd PSH Flags',\n",
    "    'Fwd URG Flags': 'Fwd URG Flags',\n",
    "    'Bwd URG Flags': 'Bwd URG Flags',\n",
    "    'Fwd Header Length': 'Fwd Header Len',\n",
    "    'Bwd Header Length': 'Bwd Header Len',\n",
    "    'Fwd Packets/s': 'Fwd Pkts/s',\n",
    "    'Bwd Packets/s': 'Bwd Pkts/s',\n",
    "    'Packet Length Min': 'Pkt Len Min',\n",
    "    'Packet Length Max': 'Pkt Len Max',\n",
    "    'Packet Length Mean': 'Pkt Len Mean',\n",
    "    'Packet Length Std': 'Pkt Len Std',\n",
    "    'Packet Length Variance': 'Pkt Len Var',\n",
    "    'FIN Flag Count': 'FIN Flag Cnt',\n",
    "    'SYN Flag Count': 'SYN Flag Cnt',\n",
    "    'RST Flag Count': 'RST Flag Cnt',\n",
    "    'PSH Flag Count': 'PSH Flag Cnt',\n",
    "    'ACK Flag Count': 'ACK Flag Cnt',\n",
    "    'URG Flag Count': 'URG Flag Cnt',\n",
    "    'CWE Flag Count': 'CWE Flag Count',\n",
    "    'ECE Flag Count': 'ECE Flag Cnt',\n",
    "    'Down/Up Ratio': 'Down/Up Ratio',\n",
    "    'Avg Packet Size': 'Pkt Size Avg',\n",
    "    'Avg Fwd Segment Size': 'Fwd Seg Size Avg',\n",
    "    'Avg Bwd Segment Size': 'Bwd Seg Size Avg',\n",
    "    'Fwd Avg Bytes/Bulk': 'Fwd Byts/b Avg',\n",
    "    'Fwd Avg Packets/Bulk': 'Fwd Pkts/b Avg',\n",
    "    'Fwd Avg Bulk Rate': 'Fwd Blk Rate Avg',\n",
    "    'Bwd Avg Bytes/Bulk': 'Bwd Byts/b Avg',\n",
    "    'Bwd Avg Packets/Bulk': 'Bwd Pkts/b Avg',\n",
    "    'Bwd Avg Bulk Rate': 'Bwd Blk Rate Avg',\n",
    "    'Subflow Fwd Packets': 'Subflow Fwd Pkts',\n",
    "    'Subflow Fwd Bytes': 'Subflow Fwd Byts',\n",
    "    'Subflow Bwd Packets': 'Subflow Bwd Pkts',\n",
    "    'Subflow Bwd Bytes': 'Subflow Bwd Byts',\n",
    "    'Init Fwd Win Bytes': 'Init Fwd Win Byts',\n",
    "    'Init Bwd Win Bytes': 'Init Bwd Win Byts',\n",
    "    'Fwd Act Data Packets': 'Fwd Act Data Pkts',\n",
    "    'Fwd Seg Size Min': 'Fwd Seg Size Min',\n",
    "    'Active Mean': 'Active Mean',\n",
    "    'Active Std': 'Active Std',\n",
    "    'Active Max': 'Active Max',\n",
    "    'Active Min': 'Active Min',\n",
    "    'Idle Mean': 'Idle Mean',\n",
    "    'Idle Std': 'Idle Std',\n",
    "    'Idle Max': 'Idle Max',\n",
    "    'Idle Min': 'Idle Min',\n",
    "}\n",
    "mapped_features = [feature_mapping.get(feature, feature) for feature in selected_features]\n",
    "\n",
    "\n",
    "# Display the mapped features\n",
    "print(\"Mapped Features:\")\n",
    "print(mapped_features)"
   ]
  },
  {
   "cell_type": "code",
   "execution_count": 121,
   "metadata": {},
   "outputs": [
    {
     "name": "stdout",
     "output_type": "stream",
     "text": [
      "                                        Flow ID           Src IP  Src Port  \\\n",
      "0       192.168.100.5-34.98.104.183-49971-443-6    192.168.100.5     49971   \n",
      "1       192.168.100.5-34.98.104.183-49971-443-6    34.98.104.183       443   \n",
      "2      192.168.100.5-20.246.247.192-49972-443-6    192.168.100.5     49972   \n",
      "3      192.168.100.5-20.246.247.192-49972-443-6    192.168.100.5     49972   \n",
      "4      192.168.100.5-20.246.247.192-49974-443-6    192.168.100.5     49974   \n",
      "...                                         ...              ...       ...   \n",
      "2995  181.159.188.251-192.168.100.5-24593-139-6  181.159.188.251     24593   \n",
      "2996     192.168.100.5-22.34.14.229-139-30691-6     22.34.14.229     30691   \n",
      "2997     192.168.100.5-222.30.46.99-139-12452-6     222.30.46.99     12452   \n",
      "2998   192.168.100.5-222.163.56.169-139-54273-6   222.163.56.169     54273   \n",
      "2999  192.168.100.5-196.147.194.226-139-50001-6  196.147.194.226     50001   \n",
      "\n",
      "              Dst IP  Dst Port  Protocol               Timestamp  \\\n",
      "0      34.98.104.183       443         6  03/12/2023 09:30:43 PM   \n",
      "1      192.168.100.5     49971         6  03/12/2023 09:30:44 PM   \n",
      "2     20.246.247.192       443         6  03/12/2023 09:30:44 PM   \n",
      "3     20.246.247.192       443         6  03/12/2023 09:30:44 PM   \n",
      "4     20.246.247.192       443         6  03/12/2023 09:30:44 PM   \n",
      "...              ...       ...       ...                     ...   \n",
      "2995   192.168.100.5       139         6  03/12/2023 09:27:54 PM   \n",
      "2996   192.168.100.5       139         6  03/12/2023 09:27:55 PM   \n",
      "2997   192.168.100.5       139         6  03/12/2023 09:27:58 PM   \n",
      "2998   192.168.100.5       139         6  03/12/2023 09:27:58 PM   \n",
      "2999   192.168.100.5       139         6  03/12/2023 09:27:57 PM   \n",
      "\n",
      "      Flow Duration  Tot Fwd Pkts  Tot Bwd Pkts  ...  Active Mean  Active Std  \\\n",
      "0            157312             5             4  ...          0.0         0.0   \n",
      "1              8645             1             1  ...          0.0         0.0   \n",
      "2            212206             8            11  ...          0.0         0.0   \n",
      "3              2622             1             1  ...          0.0         0.0   \n",
      "4            379519             7            12  ...          0.0         0.0   \n",
      "...             ...           ...           ...  ...          ...         ...   \n",
      "2995        1028649             0             3  ...          0.0         0.0   \n",
      "2996           1000             0             2  ...          0.0         0.0   \n",
      "2997         143369             1             2  ...          0.0         0.0   \n",
      "2998         387466             1             2  ...          0.0         0.0   \n",
      "2999         165649             1             2  ...          0.0         0.0   \n",
      "\n",
      "      Active Max  Active Min  Idle Mean  Idle Std  Idle Max  Idle Min  \\\n",
      "0            0.0         0.0        0.0       0.0       0.0       0.0   \n",
      "1            0.0         0.0        0.0       0.0       0.0       0.0   \n",
      "2            0.0         0.0        0.0       0.0       0.0       0.0   \n",
      "3            0.0         0.0        0.0       0.0       0.0       0.0   \n",
      "4            0.0         0.0        0.0       0.0       0.0       0.0   \n",
      "...          ...         ...        ...       ...       ...       ...   \n",
      "2995         0.0         0.0        0.0       0.0       0.0       0.0   \n",
      "2996         0.0         0.0        0.0       0.0       0.0       0.0   \n",
      "2997         0.0         0.0        0.0       0.0       0.0       0.0   \n",
      "2998         0.0         0.0        0.0       0.0       0.0       0.0   \n",
      "2999         0.0         0.0        0.0       0.0       0.0       0.0   \n",
      "\n",
      "         Label  Class  \n",
      "0     No Label    1.0  \n",
      "1     No Label    1.0  \n",
      "2     No Label    1.0  \n",
      "3     No Label    1.0  \n",
      "4     No Label    1.0  \n",
      "...        ...    ...  \n",
      "2995  No Label    0.0  \n",
      "2996  No Label    0.0  \n",
      "2997  No Label    0.0  \n",
      "2998  No Label    0.0  \n",
      "2999  No Label    0.0  \n",
      "\n",
      "[3000 rows x 85 columns]\n"
     ]
    }
   ],
   "source": [
    "df_train = df_train[0:3000]\n",
    "\n",
    "print(df_train)"
   ]
  },
  {
   "cell_type": "code",
   "execution_count": 122,
   "metadata": {},
   "outputs": [],
   "source": [
    "# Shuffle the DataFrame rows randomly\n",
    "df_train = df_train.sample(frac=1, random_state=42).reset_index(drop=True)"
   ]
  },
  {
   "cell_type": "code",
   "execution_count": 123,
   "metadata": {},
   "outputs": [],
   "source": [
    "target_name = 'Class'       # The output\n",
    "y_train = df_train[target_name]\n",
    "y_test = df_test[target_name]\n"
   ]
  },
  {
   "cell_type": "code",
   "execution_count": 124,
   "metadata": {},
   "outputs": [],
   "source": [
    "# construct the train and test set\n",
    "x_train = df_train[mapped_features]\n",
    "x_test = df_test[mapped_features]"
   ]
  },
  {
   "cell_type": "code",
   "execution_count": 125,
   "metadata": {},
   "outputs": [],
   "source": [
    "# scale\n",
    "scaler = MinMaxScaler()\n",
    "X_train_scaled = scaler.fit_transform(x_train)\n",
    "X_test_scaled = scaler.transform(x_test)"
   ]
  },
  {
   "cell_type": "code",
   "execution_count": 126,
   "metadata": {},
   "outputs": [
    {
     "data": {
      "text/plain": [
       "['lr_model_Ourdata.joblib']"
      ]
     },
     "execution_count": 126,
     "metadata": {},
     "output_type": "execute_result"
    }
   ],
   "source": [
    "# Logistic Regression\n",
    "logreg_model = LogisticRegression(max_iter=10000)\n",
    "logreg_model.fit(X_train_scaled, y_train)\n",
    "# save classifier\n",
    "dump(logreg_model, 'lr_model_Ourdata.joblib')"
   ]
  },
  {
   "cell_type": "code",
   "execution_count": 127,
   "metadata": {},
   "outputs": [
    {
     "name": "stdout",
     "output_type": "stream",
     "text": [
      "0.99915345768748\n"
     ]
    }
   ],
   "source": [
    "lr_classifier = load('lr_model_Ourdata.joblib')\n",
    "y_pred_lr=logreg_model.predict(X_test_scaled)\n",
    "#print model performance\n",
    "print(accuracy_score(y_test,y_pred_lr))"
   ]
  },
  {
   "cell_type": "code",
   "execution_count": 128,
   "metadata": {},
   "outputs": [
    {
     "data": {
      "text/html": [
       "<style>#sk-container-id-6 {color: black;}#sk-container-id-6 pre{padding: 0;}#sk-container-id-6 div.sk-toggleable {background-color: white;}#sk-container-id-6 label.sk-toggleable__label {cursor: pointer;display: block;width: 100%;margin-bottom: 0;padding: 0.3em;box-sizing: border-box;text-align: center;}#sk-container-id-6 label.sk-toggleable__label-arrow:before {content: \"▸\";float: left;margin-right: 0.25em;color: #696969;}#sk-container-id-6 label.sk-toggleable__label-arrow:hover:before {color: black;}#sk-container-id-6 div.sk-estimator:hover label.sk-toggleable__label-arrow:before {color: black;}#sk-container-id-6 div.sk-toggleable__content {max-height: 0;max-width: 0;overflow: hidden;text-align: left;background-color: #f0f8ff;}#sk-container-id-6 div.sk-toggleable__content pre {margin: 0.2em;color: black;border-radius: 0.25em;background-color: #f0f8ff;}#sk-container-id-6 input.sk-toggleable__control:checked~div.sk-toggleable__content {max-height: 200px;max-width: 100%;overflow: auto;}#sk-container-id-6 input.sk-toggleable__control:checked~label.sk-toggleable__label-arrow:before {content: \"▾\";}#sk-container-id-6 div.sk-estimator input.sk-toggleable__control:checked~label.sk-toggleable__label {background-color: #d4ebff;}#sk-container-id-6 div.sk-label input.sk-toggleable__control:checked~label.sk-toggleable__label {background-color: #d4ebff;}#sk-container-id-6 input.sk-hidden--visually {border: 0;clip: rect(1px 1px 1px 1px);clip: rect(1px, 1px, 1px, 1px);height: 1px;margin: -1px;overflow: hidden;padding: 0;position: absolute;width: 1px;}#sk-container-id-6 div.sk-estimator {font-family: monospace;background-color: #f0f8ff;border: 1px dotted black;border-radius: 0.25em;box-sizing: border-box;margin-bottom: 0.5em;}#sk-container-id-6 div.sk-estimator:hover {background-color: #d4ebff;}#sk-container-id-6 div.sk-parallel-item::after {content: \"\";width: 100%;border-bottom: 1px solid gray;flex-grow: 1;}#sk-container-id-6 div.sk-label:hover label.sk-toggleable__label {background-color: #d4ebff;}#sk-container-id-6 div.sk-serial::before {content: \"\";position: absolute;border-left: 1px solid gray;box-sizing: border-box;top: 0;bottom: 0;left: 50%;z-index: 0;}#sk-container-id-6 div.sk-serial {display: flex;flex-direction: column;align-items: center;background-color: white;padding-right: 0.2em;padding-left: 0.2em;position: relative;}#sk-container-id-6 div.sk-item {position: relative;z-index: 1;}#sk-container-id-6 div.sk-parallel {display: flex;align-items: stretch;justify-content: center;background-color: white;position: relative;}#sk-container-id-6 div.sk-item::before, #sk-container-id-6 div.sk-parallel-item::before {content: \"\";position: absolute;border-left: 1px solid gray;box-sizing: border-box;top: 0;bottom: 0;left: 50%;z-index: -1;}#sk-container-id-6 div.sk-parallel-item {display: flex;flex-direction: column;z-index: 1;position: relative;background-color: white;}#sk-container-id-6 div.sk-parallel-item:first-child::after {align-self: flex-end;width: 50%;}#sk-container-id-6 div.sk-parallel-item:last-child::after {align-self: flex-start;width: 50%;}#sk-container-id-6 div.sk-parallel-item:only-child::after {width: 0;}#sk-container-id-6 div.sk-dashed-wrapped {border: 1px dashed gray;margin: 0 0.4em 0.5em 0.4em;box-sizing: border-box;padding-bottom: 0.4em;background-color: white;}#sk-container-id-6 div.sk-label label {font-family: monospace;font-weight: bold;display: inline-block;line-height: 1.2em;}#sk-container-id-6 div.sk-label-container {text-align: center;}#sk-container-id-6 div.sk-container {/* jupyter's `normalize.less` sets `[hidden] { display: none; }` but bootstrap.min.css set `[hidden] { display: none !important; }` so we also need the `!important` here to be able to override the default hidden behavior on the sphinx rendered scikit-learn.org. See: https://github.com/scikit-learn/scikit-learn/issues/21755 */display: inline-block !important;position: relative;}#sk-container-id-6 div.sk-text-repr-fallback {display: none;}</style><div id=\"sk-container-id-6\" class=\"sk-top-container\"><div class=\"sk-text-repr-fallback\"><pre>SVC(C=0.5, gamma=0.1, kernel=&#x27;linear&#x27;, tol=0.01)</pre><b>In a Jupyter environment, please rerun this cell to show the HTML representation or trust the notebook. <br />On GitHub, the HTML representation is unable to render, please try loading this page with nbviewer.org.</b></div><div class=\"sk-container\" hidden><div class=\"sk-item\"><div class=\"sk-estimator sk-toggleable\"><input class=\"sk-toggleable__control sk-hidden--visually\" id=\"sk-estimator-id-6\" type=\"checkbox\" checked><label for=\"sk-estimator-id-6\" class=\"sk-toggleable__label sk-toggleable__label-arrow\">SVC</label><div class=\"sk-toggleable__content\"><pre>SVC(C=0.5, gamma=0.1, kernel=&#x27;linear&#x27;, tol=0.01)</pre></div></div></div></div></div>"
      ],
      "text/plain": [
       "SVC(C=0.5, gamma=0.1, kernel='linear', tol=0.01)"
      ]
     },
     "execution_count": 128,
     "metadata": {},
     "output_type": "execute_result"
    }
   ],
   "source": [
    "# Instantiate SVM classifier\n",
    "#fit model\n",
    "#classifier=svm.SVC(kernel='linear',gamma='auto',C=2)\n",
    "classifier=svm.SVC(kernel='linear',gamma=0.1 ,C=0.5, tol = 1e-2)\n",
    "classifier.fit(X_train_scaled,y_train)"
   ]
  },
  {
   "cell_type": "code",
   "execution_count": 129,
   "metadata": {},
   "outputs": [
    {
     "data": {
      "text/plain": [
       "['svm_model_Ourdata.joblib']"
      ]
     },
     "execution_count": 129,
     "metadata": {},
     "output_type": "execute_result"
    }
   ],
   "source": [
    "# save classifier\n",
    "dump(classifier, 'svm_model_Ourdata.joblib')"
   ]
  },
  {
   "cell_type": "code",
   "execution_count": 130,
   "metadata": {},
   "outputs": [
    {
     "name": "stdout",
     "output_type": "stream",
     "text": [
      "0.9995913244008524\n"
     ]
    }
   ],
   "source": [
    "# load the saved classifier\n",
    "classifier_load = load('svm_model_Ourdata.joblib')\n",
    "#print model performances\n",
    "y_predict=classifier.predict(X_test_scaled)\n",
    "\n",
    "\n",
    "print(accuracy_score(y_test,y_predict))"
   ]
  },
  {
   "cell_type": "code",
   "execution_count": 131,
   "metadata": {},
   "outputs": [],
   "source": [
    "\n",
    "# Save SVM model\n",
    "#df_test['Prediction'] = y_predict\n",
    "\n",
    "#Save LR model\n",
    "df_test['Prediction'] = np.where(y_pred_lr == 1, 'Benign', 'Attack')\n",
    "# Save the DataFrame to a CSV file\n",
    "df_test.to_csv('DataSets/output.csv', index=False)"
   ]
  },
  {
   "cell_type": "code",
   "execution_count": 132,
   "metadata": {},
   "outputs": [
    {
     "name": "stdout",
     "output_type": "stream",
     "text": [
      "Class\n",
      "0.0    33491\n",
      "1.0      766\n",
      "Name: count, dtype: int64\n"
     ]
    }
   ],
   "source": [
    "class_counts = pd.Series(y_test).value_counts()\n",
    "print(class_counts)"
   ]
  },
  {
   "cell_type": "code",
   "execution_count": 133,
   "metadata": {},
   "outputs": [
    {
     "data": {
      "image/png": "[encoded data removed]",
      "text/plain": [
       "<Figure size 1200x600 with 4 Axes>"
      ]
     },
     "metadata": {},
     "output_type": "display_data"
    }
   ],
   "source": [
    "import matplotlib.pyplot as plt\n",
    "import seaborn as sns\n",
    "\n",
    "\n",
    "\n",
    "plt.figure(figsize=(12, 6))\n",
    "\n",
    "# Linear Regression Confusion Matrix\n",
    "plt.subplot(1, 2, 1)\n",
    "conf_matrix_lr = confusion_matrix(y_test, y_pred_lr)\n",
    "sns.heatmap(conf_matrix_lr, annot=True, fmt='d', cmap='Blues', xticklabels=class_counts.index, yticklabels=class_counts.index)\n",
    "plt.title('Confusion Matrix - LR')\n",
    "\n",
    "# SVM Confusion Matrix\n",
    "plt.subplot(1, 2, 2)\n",
    "conf_matrix = confusion_matrix(y_test, y_predict)\n",
    "sns.heatmap(conf_matrix, annot=True, fmt='d', cmap='Blues', xticklabels=class_counts.index, yticklabels=class_counts.index)\n",
    "plt.title('Confusion Matrix - SVM')\n",
    "\n",
    "# Adjust layout for better aesthetics\n",
    "plt.tight_layout()\n",
    "\n",
    "# Display the figure\n",
    "plt.show()"
   ]
  }
 ],
 "metadata": {
  "kernelspec": {
   "display_name": "Python 3",
   "language": "python",
   "name": "python3"
  },
  "language_info": {
   "codemirror_mode": {
    "name": "ipython",
    "version": 3
   },
   "file_extension": ".py",
   "mimetype": "text/x-python",
   "name": "python",
   "nbconvert_exporter": "python",
   "pygments_lexer": "ipython3",
   "version": "3.12.0"
  }
 },
 "nbformat": 4,
 "nbformat_minor": 2
}
